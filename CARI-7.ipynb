{
 "cells": [
  {
   "cell_type": "code",
   "execution_count": 13,
   "id": "9a4af983-2f36-4722-984f-50dc3187752d",
   "metadata": {},
   "outputs": [],
   "source": [
    "import os\n",
    "import sys\n",
    "import csv\n",
    "import time\n",
    "import matplotlib.pyplot as plt\n",
    "import numpy as np\n",
    "import pandas as pd\n",
    "import datetime\n",
    "from IPython.display import clear_output"
   ]
  },
  {
   "cell_type": "markdown",
   "id": "b21ed5a4-75bc-4607-aeaa-d4b2914873ee",
   "metadata": {},
   "source": [
    "<h1>Initialization of CARI7-A directory</h1>"
   ]
  },
  {
   "cell_type": "code",
   "execution_count": 14,
   "id": "926bef31-173a-419f-a3e8-f0268382c673",
   "metadata": {},
   "outputs": [
    {
     "name": "stdout",
     "output_type": "stream",
     "text": [
      "Done\n",
      "CARI-7 directory - /home/sommema4/cari_test - was sucessfully initialized.\n"
     ]
    }
   ],
   "source": [
    "cari_directory = '/home/sommema4/cari_test'\n",
    "input_directory = os.path.join(cari_directory, 'input_files')\n",
    "output_directory = os.path.join(cari_directory, 'output_files')\n",
    "\n",
    "if not os.path.isdir(cari_directory):\n",
    "    os.makedirs(cari_directory)\n",
    "    \n",
    "if not os.path.isdir(input_directory):\n",
    "    os.makedirs(input_directory)\n",
    "\n",
    "if not os.path.isdir(output_directory):\n",
    "    os.makedirs(output_directory)\n",
    "\n",
    "''' initialize the cari-7a directory '''\n",
    "os.chdir(cari_directory)\n",
    "init_cari = 'cari7a-init-workdir'\n",
    "os.system(init_cari) # initialize CARI-7 directory\n",
    "\n",
    "''' run in script mode - no menus '''\n",
    "menu_off = \"sed -i '6 c\\MENUS     = NO!' CARI.INI\"\n",
    "os.system(menu_off)\n",
    "clear_output(wait=False)\n",
    "print('Done')\n",
    "print('CARI-7 directory -', cari_directory, '- was successfully initialized.')"
   ]
  },
  {
   "cell_type": "markdown",
   "id": "cba29ed2-185f-40b6-ab6f-232af4b019c3",
   "metadata": {},
   "source": [
    "<h1>Definition of functions</h1>"
   ]
  },
  {
   "cell_type": "code",
   "execution_count": 15,
   "id": "cd4d4394-8f73-44a4-a9b6-9bf90e4f0d5d",
   "metadata": {},
   "outputs": [],
   "source": [
    "# Definition of indexes used in CARI - dictionaries\n",
    "radiation_dict = {'total':0, 'neutrons':1, 'photons':2, 'electrons':3, 'positrons':4, 'neg_muons':5, 'pos_muons':6, 'protons':7, 'alphas':13}\n",
    "tally_dict = {'flux':1, 'icrp103':2, 'icrp60':3, 'h10':4, 'whole_dose':5, 'Si_500um':6, 'Si_300um':7, 'NM64':8}\n",
    "\n",
    "def make_string(row, tally, radiation):\n",
    "    ''' -------------------------- PREPARES A STRING FOR THE CARI7 INPUT FILE --------------------------- '''\n",
    "    ''' Input data format - Latitude [xx.xxxx], longitude [yyy.yyyy], Altitude [m], UTC [datetime object] '''\n",
    "    ''' Input atribute names - Latitude, Longitude, Altitude, UTC                                         '''\n",
    "    ''' Output example - N, 50.4234, E, 15.8240, K, 11.87, 2017/11/29, H11, D7, P6, C4, S0                '''\n",
    "    ''' ------------------------------------------------------------------------------------------------- '''\n",
    "    \n",
    "    latitude_dir = 'N'\n",
    "    longitude_dir = 'E'\n",
    "    if row['Latitude'] < 0:\n",
    "        latitude_dir = 'S'\n",
    "    if row['Longitude'] < 0:\n",
    "        longitude_dir = 'W'\n",
    "        \n",
    "    latitude = str(abs(row['Latitude'])) \n",
    "    longitude = str(abs(row['Longitude']))\n",
    "    altitude = str(round(row['Altitude'] * 0.001, 3)) # kilometers\n",
    "    time_str_formatted = row['UTC'].strftime('%Y/%m/%d') # YYYY/MM/DD\n",
    "    \n",
    "    out_str = latitude_dir + ',' + latitude + ',' + longitude_dir + ',' +  latitude + ',K,' + altitude + ',' + time_str_formatted + ',H' + str(row['UTC'].hour) + ',D' + str(tally_dict[tally]) + ',P' + str(radiation_dict[radiation]) + ',C4,S0\\n'\n",
    "    return out_str\n",
    "\n",
    "def create_cari_input(df, tally, radiation, filename):\n",
    "    df_str = df.apply(make_string, axis=1, args=(tally, radiation))\n",
    "    data = list(df_str.to_numpy())\n",
    "    #print(data)\n",
    "    f = open(filename, 'w')\n",
    "    f.write('START-------------------------------------------------')\n",
    "    f.write('\\n')\n",
    "    f.writelines(data)\n",
    "    f.write('STOP--------------------------------------------------------')\n",
    "    f.close()\n",
    "    \n",
    "def read_flight_radar_data(filename):\n",
    "    ''' -------------------------- READS FLIGHT RADAR DATA AND PREPROCESS THEM -------------------------- '''\n",
    "    ''' Input data format - Timestamp, UTC, Callsign, Position, Altitude, Speed, Direction                '''\n",
    "    ''' ------------------------------------------------------------------------------------------------- '''\n",
    "    \n",
    "    df = pd.read_csv(filename, sep=',')\n",
    "    df['UTC'] = pd.to_datetime(df['UTC'], format='%Y-%m-%dT%H:%M:%S', errors='coerce')\n",
    "    df['Position'] = df['Position'].str.split(',')\n",
    "    df['Latitude'] = df['Position'].str[0].astype(float)\n",
    "    df['Longitude'] = df['Position'].str[1].astype(float)\n",
    "    df['Latitude'] = df['Latitude'].round(4)\n",
    "    df['Longitude'] = df['Longitude'].round(4)\n",
    "    df['Altitude'] = df['Altitude'] * 0.3048 # conversion from feet to meters\n",
    "    return df\n",
    "\n",
    "def read_airdos_data(filename):\n",
    "    df = pd.DataFrame()\n",
    "    return df\n",
    "\n",
    "def read_hawk_data(filename):\n",
    "    df = pd.DataFrame()\n",
    "    return df\n",
    "    \n",
    "def run_cari(input_file):\n",
    "    change_input = \"sed -i \\'5 c\\\\\" + input_file + \"' DEFAULT.INP\"\n",
    "    os.system(change_input)\n",
    "    os.system('cari7a')"
   ]
  },
  {
   "cell_type": "markdown",
   "id": "b8afc12e-50a8-4fbf-987a-e651e46aa14b",
   "metadata": {},
   "source": [
    "<h1>Run CARI-7A program</h1>"
   ]
  },
  {
   "cell_type": "code",
   "execution_count": 18,
   "id": "1f7d4b56-e42a-403e-9e76-258fb1695a39",
   "metadata": {},
   "outputs": [
    {
     "name": "stdout",
     "output_type": "stream",
     "text": [
      "Done\n",
      "Output files are located in /home/sommema4/cari_test/output_files\n"
     ]
    }
   ],
   "source": [
    "''' ---------------------------------------- INPUT VARIABLES ---------------------------------------- '''\n",
    "\n",
    "radiation_list = ['total', 'neutrons', 'photons', 'electrons', 'positrons', 'neg_muons', 'pos_muons', 'protons', 'alphas']\n",
    "tally_list = ['flux', 'icrp103', 'h10', 'Si_300um', 'Si_500um', 'h10', 'whole_dose']\n",
    "\n",
    "radiation_list = ['total']\n",
    "tally_list = ['flux']\n",
    "\n",
    "''' ------------------------------------------------------------------------------------------------- '''\n",
    "\n",
    "flight_radar_file = '/storage/experiments/2023/04_HIMAC/NRT_WAW_PRG/LO80_3008d15a.csv'\n",
    "\n",
    "df = read_flight_radar_data(flight_radar_file)\n",
    "\n",
    "for radiation in radiation_list:\n",
    "    for tally in tally_list:\n",
    "        input_file = radiation + '_' + tally + '.LOC'\n",
    "        output_file = radiation + '_' + tally + '.ANS'\n",
    "        create_cari_input(df, tally, radiation, input_file)\n",
    "        run_cari(input_file)\n",
    "        os.rename(input_file, os.path.join(input_directory, input_file))\n",
    "        os.rename(output_file, os.path.join(output_directory, output_file))\n",
    "        #os.del(input_file)\n",
    "        #os.del(output_file)\n",
    "clear_output(wait=False)\n",
    "print('Done')\n",
    "print('Output files are located in', output_directory) "
   ]
  },
  {
   "cell_type": "code",
   "execution_count": null,
   "id": "2e74cfc8-1bcc-496e-9324-94857e1cb213",
   "metadata": {},
   "outputs": [],
   "source": []
  }
 ],
 "metadata": {
  "kernelspec": {
   "display_name": "Python 3",
   "language": "python",
   "name": "ipython_py3"
  },
  "language_info": {
   "codemirror_mode": {
    "name": "ipython",
    "version": 3
   },
   "file_extension": ".py",
   "mimetype": "text/x-python",
   "name": "python",
   "nbconvert_exporter": "python",
   "pygments_lexer": "ipython3",
   "version": "3.8.13"
  }
 },
 "nbformat": 4,
 "nbformat_minor": 5
}
